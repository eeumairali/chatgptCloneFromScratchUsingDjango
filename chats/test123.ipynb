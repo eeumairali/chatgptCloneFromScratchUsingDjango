{
 "cells": [
  {
   "cell_type": "code",
   "execution_count": 5,
   "id": "f214267b",
   "metadata": {},
   "outputs": [],
   "source": [
    "class Animal:\n",
    "    def __init__(self, name):\n",
    "        self.name = name\n",
    "    def give_name(self):\n",
    "        return self.name\n"
   ]
  },
  {
   "cell_type": "code",
   "execution_count": 6,
   "id": "9d3639c2",
   "metadata": {},
   "outputs": [],
   "source": [
    "a1 = Animal(\"Lion\")"
   ]
  },
  {
   "cell_type": "code",
   "execution_count": 7,
   "id": "cfbcf600",
   "metadata": {},
   "outputs": [],
   "source": [
    "a1.name = \"Goat\""
   ]
  },
  {
   "cell_type": "code",
   "execution_count": 8,
   "id": "76a64928",
   "metadata": {},
   "outputs": [
    {
     "data": {
      "text/plain": [
       "'Goat'"
      ]
     },
     "execution_count": 8,
     "metadata": {},
     "output_type": "execute_result"
    }
   ],
   "source": [
    "a1.name"
   ]
  },
  {
   "cell_type": "code",
   "execution_count": 9,
   "id": "80cc051e",
   "metadata": {},
   "outputs": [
    {
     "data": {
      "text/plain": [
       "'Goat'"
      ]
     },
     "execution_count": 9,
     "metadata": {},
     "output_type": "execute_result"
    }
   ],
   "source": [
    "a1.give_name()"
   ]
  },
  {
   "cell_type": "code",
   "execution_count": 10,
   "id": "48a11cbf",
   "metadata": {},
   "outputs": [],
   "source": [
    "class Animal2:\n",
    "    def __init__(self, name):\n",
    "        self.__name = name\n",
    "    def give_name(self):\n",
    "        return self.__name\n"
   ]
  },
  {
   "cell_type": "code",
   "execution_count": 11,
   "id": "f0aea0ed",
   "metadata": {},
   "outputs": [],
   "source": [
    "a1 = Animal2(\"Lion\")"
   ]
  },
  {
   "cell_type": "code",
   "execution_count": 13,
   "id": "f83b9d16",
   "metadata": {},
   "outputs": [
    {
     "ename": "AttributeError",
     "evalue": "'Animal2' object has no attribute '__name'",
     "output_type": "error",
     "traceback": [
      "\u001b[31m---------------------------------------------------------------------------\u001b[39m",
      "\u001b[31mAttributeError\u001b[39m                            Traceback (most recent call last)",
      "\u001b[36mCell\u001b[39m\u001b[36m \u001b[39m\u001b[32mIn[13]\u001b[39m\u001b[32m, line 1\u001b[39m\n\u001b[32m----> \u001b[39m\u001b[32m1\u001b[39m \u001b[43ma1\u001b[49m\u001b[43m.\u001b[49m\u001b[43m__name\u001b[49m\n",
      "\u001b[31mAttributeError\u001b[39m: 'Animal2' object has no attribute '__name'"
     ]
    }
   ],
   "source": [
    "a1.__name"
   ]
  },
  {
   "cell_type": "code",
   "execution_count": 14,
   "id": "886e3e93",
   "metadata": {},
   "outputs": [],
   "source": [
    "a1.__name = \"Tiger\""
   ]
  },
  {
   "cell_type": "code",
   "execution_count": 15,
   "id": "d18ff95e",
   "metadata": {},
   "outputs": [
    {
     "data": {
      "text/plain": [
       "'Tiger'"
      ]
     },
     "execution_count": 15,
     "metadata": {},
     "output_type": "execute_result"
    }
   ],
   "source": [
    "a1.__name"
   ]
  },
  {
   "cell_type": "code",
   "execution_count": 16,
   "id": "836dfd72",
   "metadata": {},
   "outputs": [
    {
     "data": {
      "text/plain": [
       "'Lion'"
      ]
     },
     "execution_count": 16,
     "metadata": {},
     "output_type": "execute_result"
    }
   ],
   "source": [
    "a1.give_name()"
   ]
  },
  {
   "cell_type": "code",
   "execution_count": null,
   "id": "99934ca8",
   "metadata": {},
   "outputs": [],
   "source": []
  }
 ],
 "metadata": {
  "kernelspec": {
   "display_name": "base",
   "language": "python",
   "name": "python3"
  },
  "language_info": {
   "codemirror_mode": {
    "name": "ipython",
    "version": 3
   },
   "file_extension": ".py",
   "mimetype": "text/x-python",
   "name": "python",
   "nbconvert_exporter": "python",
   "pygments_lexer": "ipython3",
   "version": "3.13.2"
  }
 },
 "nbformat": 4,
 "nbformat_minor": 5
}
